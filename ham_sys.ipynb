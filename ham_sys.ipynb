{
  "cells": [
    {
      "cell_type": "code",
      "execution_count": 31,
      "metadata": {
        "id": "cChqX_9Aa1b_"
      },
      "outputs": [],
      "source": [
        "from sympy import *\n",
        "import numpy as np\n",
        "import matplotlib.pyplot as plt\n",
        "from scipy.integrate import solve_ivp\n",
        "from scipy.optimize import fsolve\n",
        "from scipy.optimize import newton\n",
        "plt.style.use('seaborn-poster')"
      ]
    },
    {
      "cell_type": "code",
      "execution_count": 32,
      "metadata": {
        "id": "nFCGN6DQa5oB"
      },
      "outputs": [],
      "source": [
        "t, n, R, d = symbols('t n R delta')\n",
        "\n",
        "q_1, q_2, psi_1, psi_2 = symbols('q_1, q_2, psi_1, psi_2')\n",
        "\n",
        "H = sqrt(n * R * d * (n * q_1 ** 4 * psi_2 ** 2 + \\\n",
        "                      2 * q_1 ** 4 * psi_1 ** 2 + \\\n",
        "                      4 * q_1 ** 3 * q_2 * psi_1 * psi_2 + \\\n",
        "                      2 * q_1 ** 2 * q_2 ** 2 * psi_2 ** 2 - \\\n",
        "                      2 * R * n * q_1 ** 2 * psi_2 + \\\n",
        "                      + R ** 2 * n)) / (2 * q_1 ** 2)\n",
        "\n",
        "right_parts = [H.diff(psi_1), H.diff(psi_2), - H.diff(q_1), - H.diff(q_2)]\n",
        "\n",
        "n_ = 3\n",
        "R_ = 8.31\n",
        "delta_ = 0.1\n",
        "\n",
        "e_start = n * R * 0.25 / 2\n",
        "e_end = n * R * 0.165 / 2\n",
        "v_start = 0.75\n",
        "v_end = 0.55\n",
        "\n",
        "init_q = [n * R / (2 * e_start), \n",
        "      - n * R / (2 * e_start) * np.log(v_start)]\n",
        "end_q = [n * R / (2 * e_end), \n",
        "      - n * R / (2 * e_end) * np.log(v_end)]\n",
        "\n",
        "start_time = 0\n",
        "end_time = 2.175\n",
        "time_dots = 10000\n",
        "time_net = np.linspace(start_time, end_time, time_dots)\n",
        "sol = []"
      ]
    },
    {
      "cell_type": "code",
      "execution_count": 33,
      "metadata": {
        "id": "o9-H8yGKlw2d"
      },
      "outputs": [],
      "source": [
        "# vars configuration is [q_1, q_2, psi_1, psi_2]\n",
        "def hamiltonian_system(t, vars):\n",
        "  return [float(right_parts[i].subs([(q_1, vars[0]), (q_2, vars[1]),\n",
        "                                     (psi_1, vars[2]), (psi_2, vars[3]), \n",
        "                                     (n, n_), (R, R_), (d, delta_)])) for i in range(4)]\n"
      ]
    },
    {
      "cell_type": "code",
      "execution_count": 34,
      "metadata": {
        "id": "keTMSf0Urpdm"
      },
      "outputs": [],
      "source": [
        "def objective(init_psi):\n",
        "    sol = solve_ivp(hamiltonian_system, \n",
        "                    [start_time, end_time], \n",
        "                    [init_q[0], init_q[1], init_psi[0], init_psi[1]], \n",
        "                    t_eval=time_net)\n",
        "    q_1 = sol.y[0]\n",
        "    q_2 = sol.y[1]\n",
        "    return [q_1[-1] - end_q[0], q_2[-1] - end_q[1]]"
      ]
    },
    {
      "cell_type": "code",
      "execution_count": 35,
      "metadata": {
        "id": "I6VWmAI_xvO-"
      },
      "outputs": [],
      "source": [
        "root = fsolve(objective, [0, 0])\n",
        "sol = solve_ivp(hamiltonian_system, \n",
        "                [start_time, end_time], \n",
        "                [init_q[0], init_q[1], root[0], root[1]], \n",
        "                t_eval = time_net)"
      ]
    },
    {
      "cell_type": "code",
      "execution_count": 36,
      "metadata": {
        "id": "1DjE6-Op1xYu"
      },
      "outputs": [],
      "source": [
        "e = n_ * R_ / (2 * sol.y[0])\n",
        "v = np.exp(- sol.y[1] / sol.y[0])\n",
        "T = 2 * e / (n_ * R_) "
      ]
    },
    {
      "cell_type": "code",
      "execution_count": 37,
      "metadata": {
        "colab": {
          "base_uri": "https://localhost:8080/",
          "height": 626
        },
        "id": "3erJIkXI2Svp",
        "outputId": "9b2d3899-d459-46e8-b98a-d1020e5ed33f"
      },
      "outputs": [
        {
          "name": "stderr",
          "output_type": "stream",
          "text": [
            "C:\\Users\\Vlad\\AppData\\Local\\Temp/ipykernel_22204/3587452450.py:4: UserWarning: color is redundantly defined by the 'color' keyword argument and the fmt string \"ro\" (-> color='r'). The keyword argument will take precedence.\n",
            "  plt.plot(0.25, 0.75, 'ro', color=\"black\")\n",
            "C:\\Users\\Vlad\\AppData\\Local\\Temp/ipykernel_22204/3587452450.py:5: UserWarning: color is redundantly defined by the 'color' keyword argument and the fmt string \"ro\" (-> color='r'). The keyword argument will take precedence.\n",
            "  plt.plot(0.165, 0.55, 'ro', color=\"black\")\n"
          ]
        },
        {
          "data": {
            "image/png": "[encoded data removed]",
            "text/plain": [
              "<Figure size 720x720 with 1 Axes>"
            ]
          },
          "metadata": {
            "needs_background": "light"
          },
          "output_type": "display_data"
        }
      ],
      "source": [
        "def show_result(T, v):    \n",
        "    plt.figure(figsize = (10, 10))\n",
        "    plt.plot(T, v, color=\"black\", linewidth=2)\n",
        "    plt.plot(0.25, 0.75, 'ro', color=\"black\")\n",
        "    plt.plot(0.165, 0.55, 'ro', color=\"black\")\n",
        "    plt.xlabel(\"T\")\n",
        "    plt.ylabel(r\"$\\upsilon$\")\n",
        "    plt.show()\n",
        "\n",
        "show_result(T, v)"
      ]
    }
  ],
  "metadata": {
    "colab": {
      "provenance": []
    },
    "kernelspec": {
      "display_name": "Python 3.9.6 64-bit",
      "language": "python",
      "name": "python3"
    },
    "language_info": {
      "codemirror_mode": {
        "name": "ipython",
        "version": 3
      },
      "file_extension": ".py",
      "mimetype": "text/x-python",
      "name": "python",
      "nbconvert_exporter": "python",
      "pygments_lexer": "ipython3",
      "version": "3.9.6"
    },
    "vscode": {
      "interpreter": {
        "hash": "2ad02271c7f282e37949be07c1851365816c8014f6e1de5fd2edbe7293f6e86a"
      }
    }
  },
  "nbformat": 4,
  "nbformat_minor": 0
}
